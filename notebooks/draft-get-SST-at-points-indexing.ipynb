{
 "cells": [
  {
   "cell_type": "markdown",
   "id": "ed3c3e04-b364-4e42-99f9-ee26c1a68abd",
   "metadata": {},
   "source": [
    "# Process the data\n",
    "This notebook shows a simple example of extracting data at a point on the downloaded xarray from the `load_data.ipynb` file. At the end of that file, I ran `%store ds` where `ds` is the xarray of SST values.\n",
    "\n",
    "This compares 2 ways of getting SST from my data points (track). The first is very slow. The second is much faster, so scroll to the bottom."
   ]
  },
  {
   "cell_type": "code",
   "execution_count": 1,
   "id": "80e7b56e-0204-4c31-b3ee-12ca0d9140c3",
   "metadata": {},
   "outputs": [],
   "source": [
    "# This is stored from load_data.ipynb file so run that first\n",
    "%store -r ds"
   ]
  },
  {
   "cell_type": "markdown",
   "id": "bda62333-d5e5-468d-95a4-5d4711a1251d",
   "metadata": {},
   "source": [
    "# Get SST at a particular lat/lon value\n",
    "I have my lat/lon data in a file `data/sample_point_pairs.csv`. These are points along the North and South America coasts. My lat/lon values are not on the same grid as the SST data, so I need to find the \"pixel\" where my lat/lon value lies. "
   ]
  },
  {
   "cell_type": "code",
   "execution_count": 2,
   "id": "fec6e62b-001b-4956-8e29-a73e7d253720",
   "metadata": {},
   "outputs": [],
   "source": [
    "import pandas as pd\n",
    "df = pd.read_csv('../data/sample_point_pairs.csv')"
   ]
  },
  {
   "cell_type": "markdown",
   "id": "860b2950-e8cf-4894-ab7c-e79de50c0c47",
   "metadata": {},
   "source": [
    "Here is a lat/lon pair."
   ]
  },
  {
   "cell_type": "code",
   "execution_count": 3,
   "id": "d4de34fa-ce46-4a82-a11d-7637e266281e",
   "metadata": {},
   "outputs": [
    {
     "data": {
      "text/plain": [
       "[54.8932363035493, -164.839138084371]"
      ]
     },
     "execution_count": 3,
     "metadata": {},
     "output_type": "execute_result"
    }
   ],
   "source": [
    "ns = [df.iloc[0][\"lat.ns\"], df.iloc[0][\"lon.ns\"]]\n",
    "ns"
   ]
  },
  {
   "cell_type": "markdown",
   "id": "58efcade-8d88-4f42-a22a-4190498422b8",
   "metadata": {},
   "source": [
    "Here is the code to get SST (in Kelvin) at a particular lat/lon point."
   ]
  },
  {
   "cell_type": "code",
   "execution_count": 4,
   "id": "df8883e6-eba0-497e-aa05-c96421d185b2",
   "metadata": {},
   "outputs": [
    {
     "data": {
      "text/plain": [
       "278.32"
      ]
     },
     "execution_count": 4,
     "metadata": {},
     "output_type": "execute_result"
    }
   ],
   "source": [
    "ds.analysed_sst.sel(lat=ns[0], lon=ns[1], method=\"nearest\").values[0]"
   ]
  },
  {
   "cell_type": "markdown",
   "id": "7ff8b007-2c58-4b78-a9de-ea6911bb5813",
   "metadata": {
    "tags": []
   },
   "source": [
    "# Alternate approach using indices\n",
    "From https://github.com/ICESAT-2HackWeek/xarray_open_tutorial/blob/master/xarray_examples.ipynb"
   ]
  },
  {
   "cell_type": "code",
   "execution_count": 5,
   "id": "0a75bb73-22ca-4cc2-ba42-81b7a675db7b",
   "metadata": {
    "tags": []
   },
   "outputs": [],
   "source": [
    "import xarray as xr\n",
    "import numpy as np"
   ]
  },
  {
   "cell_type": "code",
   "execution_count": 6,
   "id": "9b34e514-3e25-4a4c-a80d-43a0998c2cdd",
   "metadata": {},
   "outputs": [],
   "source": [
    "ind_x = xr.DataArray(df[\"lon.ns\"], dims=['i'])\n",
    "ind_y = xr.DataArray(df[\"lat.ns\"], dims=['i'])"
   ]
  },
  {
   "cell_type": "code",
   "execution_count": 7,
   "id": "768b0da5-79a3-4b4a-a25c-1bc8d8b2ebd6",
   "metadata": {},
   "outputs": [
    {
     "data": {
      "text/plain": [
       "array([278.32   , 278.00998, 277.69998, 278.00998, 278.03   , 277.83   ,\n",
       "       277.29   , 274.81   , 273.84   , 271.77   , 272.74   , 272.18   ,\n",
       "       271.94998, 271.85   , 271.66998, 271.61   , 271.77   , 271.69   ,\n",
       "       271.6    ,       nan], dtype=float32)"
      ]
     },
     "execution_count": 7,
     "metadata": {},
     "output_type": "execute_result"
    }
   ],
   "source": [
    "test = ds.analysed_sst.sel(lon=ind_x, lat=ind_y, method='nearest').values\n",
    "test[0, 0:20]"
   ]
  },
  {
   "cell_type": "markdown",
   "id": "f78b2fe3-68ee-4387-845c-c666a2d81476",
   "metadata": {},
   "source": [
    "Make a function to do this."
   ]
  },
  {
   "cell_type": "code",
   "execution_count": 8,
   "id": "cf4a955e-ecce-4337-a458-fd79a109c7c4",
   "metadata": {},
   "outputs": [],
   "source": [
    "def getdf2(ras, pts):\n",
    "    ind_x = xr.DataArray(df[\"lon.ns\"], dims=['i'])\n",
    "    ind_y = xr.DataArray(df[\"lat.ns\"], dims=['i'])\n",
    "    xr_new = ras.analysed_sst.sel(lon=ind_x, lat=ind_y, method='nearest').values\n",
    "    ind_x = xr.DataArray(df[\"lon.os\"], dims=['i'])\n",
    "    ind_y = xr.DataArray(df[\"lat.os\"], dims=['i'])\n",
    "    xr_new = np.vstack((xr_new, ras.analysed_sst.sel(lon=ind_x, lat=ind_y, method='nearest').values))\n",
    "    return xr_new"
   ]
  },
  {
   "cell_type": "code",
   "execution_count": 9,
   "id": "a9276b51-5d96-4949-9af7-369610ea94cb",
   "metadata": {},
   "outputs": [
    {
     "name": "stdout",
     "output_type": "stream",
     "text": [
      "157 ms ± 4.62 ms per loop (mean ± std. dev. of 7 runs, 10 loops each)\n"
     ]
    }
   ],
   "source": [
    "%timeit getdf2(ds, df)"
   ]
  },
  {
   "cell_type": "markdown",
   "id": "0a6ccbaf-73f9-4124-ade8-742266ae53a0",
   "metadata": {},
   "source": [
    "This is much faster!"
   ]
  },
  {
   "cell_type": "code",
   "execution_count": 11,
   "id": "c2668665-1e5b-4e35-9360-8c6dabb4ad18",
   "metadata": {},
   "outputs": [
    {
     "data": {
      "text/plain": [
       "101.91082802547771"
      ]
     },
     "execution_count": 11,
     "metadata": {},
     "output_type": "execute_result"
    }
   ],
   "source": []
  },
  {
   "cell_type": "code",
   "execution_count": null,
   "id": "50289b11-c38c-4b54-a118-2faa88f13458",
   "metadata": {},
   "outputs": [],
   "source": []
  },
  {
   "cell_type": "code",
   "execution_count": 24,
   "id": "6016ad68-74f1-4fbd-ab37-292a3e021e6a",
   "metadata": {},
   "outputs": [
    {
     "data": {
      "text/plain": [
       "array([[[278.00998, 278.00998]]], dtype=float32)"
      ]
     },
     "execution_count": 29,
     "metadata": {},
     "output_type": "execute_result"
    }
   ],
   "source": [
    "ind_x = xr.DataArray([[df[\"lon.ns\"][1]-0.25,df[\"lon.ns\"][1]]], dims=['i','y'])\n",
    "ind_y = xr.DataArray([[df[\"lat.ns\"][1]-0.25,df[\"lat.ns\"][1]]], dims=['i','y'])\n",
    "test = ds.analysed_sst.sel(lon=ind_x, lat=ind_y, method='nearest').values\n",
    "test"
   ]
  },
  {
   "cell_type": "code",
   "execution_count": 25,
   "id": "2d1fe99e-f178-4ed9-9267-ed4a14caab76",
   "metadata": {},
   "outputs": [
    {
     "data": {
      "text/plain": [
       "array([[[278.25998,       nan]]], dtype=float32)"
      ]
     },
     "execution_count": 25,
     "metadata": {},
     "output_type": "execute_result"
    }
   ],
   "source": [
    "test = ds.analysed_sst.sel(lon=ind_x, lat=ind_y, method='nearest').values\n",
    "test"
   ]
  },
  {
   "cell_type": "code",
   "execution_count": 26,
   "id": "c9a1779e-2497-463a-a2dd-97cce9d1af24",
   "metadata": {},
   "outputs": [
    {
     "data": {
      "text/html": [
       "<div><svg style=\"position: absolute; width: 0; height: 0; overflow: hidden\">\n",
       "<defs>\n",
       "<symbol id=\"icon-database\" viewBox=\"0 0 32 32\">\n",
       "<path d=\"M16 0c-8.837 0-16 2.239-16 5v4c0 2.761 7.163 5 16 5s16-2.239 16-5v-4c0-2.761-7.163-5-16-5z\"></path>\n",
       "<path d=\"M16 17c-8.837 0-16-2.239-16-5v6c0 2.761 7.163 5 16 5s16-2.239 16-5v-6c0 2.761-7.163 5-16 5z\"></path>\n",
       "<path d=\"M16 26c-8.837 0-16-2.239-16-5v6c0 2.761 7.163 5 16 5s16-2.239 16-5v-6c0 2.761-7.163 5-16 5z\"></path>\n",
       "</symbol>\n",
       "<symbol id=\"icon-file-text2\" viewBox=\"0 0 32 32\">\n",
       "<path d=\"M28.681 7.159c-0.694-0.947-1.662-2.053-2.724-3.116s-2.169-2.030-3.116-2.724c-1.612-1.182-2.393-1.319-2.841-1.319h-15.5c-1.378 0-2.5 1.121-2.5 2.5v27c0 1.378 1.122 2.5 2.5 2.5h23c1.378 0 2.5-1.122 2.5-2.5v-19.5c0-0.448-0.137-1.23-1.319-2.841zM24.543 5.457c0.959 0.959 1.712 1.825 2.268 2.543h-4.811v-4.811c0.718 0.556 1.584 1.309 2.543 2.268zM28 29.5c0 0.271-0.229 0.5-0.5 0.5h-23c-0.271 0-0.5-0.229-0.5-0.5v-27c0-0.271 0.229-0.5 0.5-0.5 0 0 15.499-0 15.5 0v7c0 0.552 0.448 1 1 1h7v19.5z\"></path>\n",
       "<path d=\"M23 26h-14c-0.552 0-1-0.448-1-1s0.448-1 1-1h14c0.552 0 1 0.448 1 1s-0.448 1-1 1z\"></path>\n",
       "<path d=\"M23 22h-14c-0.552 0-1-0.448-1-1s0.448-1 1-1h14c0.552 0 1 0.448 1 1s-0.448 1-1 1z\"></path>\n",
       "<path d=\"M23 18h-14c-0.552 0-1-0.448-1-1s0.448-1 1-1h14c0.552 0 1 0.448 1 1s-0.448 1-1 1z\"></path>\n",
       "</symbol>\n",
       "</defs>\n",
       "</svg>\n",
       "<style>/* CSS stylesheet for displaying xarray objects in jupyterlab.\n",
       " *\n",
       " */\n",
       "\n",
       ":root {\n",
       "  --xr-font-color0: var(--jp-content-font-color0, rgba(0, 0, 0, 1));\n",
       "  --xr-font-color2: var(--jp-content-font-color2, rgba(0, 0, 0, 0.54));\n",
       "  --xr-font-color3: var(--jp-content-font-color3, rgba(0, 0, 0, 0.38));\n",
       "  --xr-border-color: var(--jp-border-color2, #e0e0e0);\n",
       "  --xr-disabled-color: var(--jp-layout-color3, #bdbdbd);\n",
       "  --xr-background-color: var(--jp-layout-color0, white);\n",
       "  --xr-background-color-row-even: var(--jp-layout-color1, white);\n",
       "  --xr-background-color-row-odd: var(--jp-layout-color2, #eeeeee);\n",
       "}\n",
       "\n",
       "html[theme=dark],\n",
       "body.vscode-dark {\n",
       "  --xr-font-color0: rgba(255, 255, 255, 1);\n",
       "  --xr-font-color2: rgba(255, 255, 255, 0.54);\n",
       "  --xr-font-color3: rgba(255, 255, 255, 0.38);\n",
       "  --xr-border-color: #1F1F1F;\n",
       "  --xr-disabled-color: #515151;\n",
       "  --xr-background-color: #111111;\n",
       "  --xr-background-color-row-even: #111111;\n",
       "  --xr-background-color-row-odd: #313131;\n",
       "}\n",
       "\n",
       ".xr-wrap {\n",
       "  display: block;\n",
       "  min-width: 300px;\n",
       "  max-width: 700px;\n",
       "}\n",
       "\n",
       ".xr-text-repr-fallback {\n",
       "  /* fallback to plain text repr when CSS is not injected (untrusted notebook) */\n",
       "  display: none;\n",
       "}\n",
       "\n",
       ".xr-header {\n",
       "  padding-top: 6px;\n",
       "  padding-bottom: 6px;\n",
       "  margin-bottom: 4px;\n",
       "  border-bottom: solid 1px var(--xr-border-color);\n",
       "}\n",
       "\n",
       ".xr-header > div,\n",
       ".xr-header > ul {\n",
       "  display: inline;\n",
       "  margin-top: 0;\n",
       "  margin-bottom: 0;\n",
       "}\n",
       "\n",
       ".xr-obj-type,\n",
       ".xr-array-name {\n",
       "  margin-left: 2px;\n",
       "  margin-right: 10px;\n",
       "}\n",
       "\n",
       ".xr-obj-type {\n",
       "  color: var(--xr-font-color2);\n",
       "}\n",
       "\n",
       ".xr-sections {\n",
       "  padding-left: 0 !important;\n",
       "  display: grid;\n",
       "  grid-template-columns: 150px auto auto 1fr 20px 20px;\n",
       "}\n",
       "\n",
       ".xr-section-item {\n",
       "  display: contents;\n",
       "}\n",
       "\n",
       ".xr-section-item input {\n",
       "  display: none;\n",
       "}\n",
       "\n",
       ".xr-section-item input + label {\n",
       "  color: var(--xr-disabled-color);\n",
       "}\n",
       "\n",
       ".xr-section-item input:enabled + label {\n",
       "  cursor: pointer;\n",
       "  color: var(--xr-font-color2);\n",
       "}\n",
       "\n",
       ".xr-section-item input:enabled + label:hover {\n",
       "  color: var(--xr-font-color0);\n",
       "}\n",
       "\n",
       ".xr-section-summary {\n",
       "  grid-column: 1;\n",
       "  color: var(--xr-font-color2);\n",
       "  font-weight: 500;\n",
       "}\n",
       "\n",
       ".xr-section-summary > span {\n",
       "  display: inline-block;\n",
       "  padding-left: 0.5em;\n",
       "}\n",
       "\n",
       ".xr-section-summary-in:disabled + label {\n",
       "  color: var(--xr-font-color2);\n",
       "}\n",
       "\n",
       ".xr-section-summary-in + label:before {\n",
       "  display: inline-block;\n",
       "  content: '►';\n",
       "  font-size: 11px;\n",
       "  width: 15px;\n",
       "  text-align: center;\n",
       "}\n",
       "\n",
       ".xr-section-summary-in:disabled + label:before {\n",
       "  color: var(--xr-disabled-color);\n",
       "}\n",
       "\n",
       ".xr-section-summary-in:checked + label:before {\n",
       "  content: '▼';\n",
       "}\n",
       "\n",
       ".xr-section-summary-in:checked + label > span {\n",
       "  display: none;\n",
       "}\n",
       "\n",
       ".xr-section-summary,\n",
       ".xr-section-inline-details {\n",
       "  padding-top: 4px;\n",
       "  padding-bottom: 4px;\n",
       "}\n",
       "\n",
       ".xr-section-inline-details {\n",
       "  grid-column: 2 / -1;\n",
       "}\n",
       "\n",
       ".xr-section-details {\n",
       "  display: none;\n",
       "  grid-column: 1 / -1;\n",
       "  margin-bottom: 5px;\n",
       "}\n",
       "\n",
       ".xr-section-summary-in:checked ~ .xr-section-details {\n",
       "  display: contents;\n",
       "}\n",
       "\n",
       ".xr-array-wrap {\n",
       "  grid-column: 1 / -1;\n",
       "  display: grid;\n",
       "  grid-template-columns: 20px auto;\n",
       "}\n",
       "\n",
       ".xr-array-wrap > label {\n",
       "  grid-column: 1;\n",
       "  vertical-align: top;\n",
       "}\n",
       "\n",
       ".xr-preview {\n",
       "  color: var(--xr-font-color3);\n",
       "}\n",
       "\n",
       ".xr-array-preview,\n",
       ".xr-array-data {\n",
       "  padding: 0 5px !important;\n",
       "  grid-column: 2;\n",
       "}\n",
       "\n",
       ".xr-array-data,\n",
       ".xr-array-in:checked ~ .xr-array-preview {\n",
       "  display: none;\n",
       "}\n",
       "\n",
       ".xr-array-in:checked ~ .xr-array-data,\n",
       ".xr-array-preview {\n",
       "  display: inline-block;\n",
       "}\n",
       "\n",
       ".xr-dim-list {\n",
       "  display: inline-block !important;\n",
       "  list-style: none;\n",
       "  padding: 0 !important;\n",
       "  margin: 0;\n",
       "}\n",
       "\n",
       ".xr-dim-list li {\n",
       "  display: inline-block;\n",
       "  padding: 0;\n",
       "  margin: 0;\n",
       "}\n",
       "\n",
       ".xr-dim-list:before {\n",
       "  content: '(';\n",
       "}\n",
       "\n",
       ".xr-dim-list:after {\n",
       "  content: ')';\n",
       "}\n",
       "\n",
       ".xr-dim-list li:not(:last-child):after {\n",
       "  content: ',';\n",
       "  padding-right: 5px;\n",
       "}\n",
       "\n",
       ".xr-has-index {\n",
       "  font-weight: bold;\n",
       "}\n",
       "\n",
       ".xr-var-list,\n",
       ".xr-var-item {\n",
       "  display: contents;\n",
       "}\n",
       "\n",
       ".xr-var-item > div,\n",
       ".xr-var-item label,\n",
       ".xr-var-item > .xr-var-name span {\n",
       "  background-color: var(--xr-background-color-row-even);\n",
       "  margin-bottom: 0;\n",
       "}\n",
       "\n",
       ".xr-var-item > .xr-var-name:hover span {\n",
       "  padding-right: 5px;\n",
       "}\n",
       "\n",
       ".xr-var-list > li:nth-child(odd) > div,\n",
       ".xr-var-list > li:nth-child(odd) > label,\n",
       ".xr-var-list > li:nth-child(odd) > .xr-var-name span {\n",
       "  background-color: var(--xr-background-color-row-odd);\n",
       "}\n",
       "\n",
       ".xr-var-name {\n",
       "  grid-column: 1;\n",
       "}\n",
       "\n",
       ".xr-var-dims {\n",
       "  grid-column: 2;\n",
       "}\n",
       "\n",
       ".xr-var-dtype {\n",
       "  grid-column: 3;\n",
       "  text-align: right;\n",
       "  color: var(--xr-font-color2);\n",
       "}\n",
       "\n",
       ".xr-var-preview {\n",
       "  grid-column: 4;\n",
       "}\n",
       "\n",
       ".xr-var-name,\n",
       ".xr-var-dims,\n",
       ".xr-var-dtype,\n",
       ".xr-preview,\n",
       ".xr-attrs dt {\n",
       "  white-space: nowrap;\n",
       "  overflow: hidden;\n",
       "  text-overflow: ellipsis;\n",
       "  padding-right: 10px;\n",
       "}\n",
       "\n",
       ".xr-var-name:hover,\n",
       ".xr-var-dims:hover,\n",
       ".xr-var-dtype:hover,\n",
       ".xr-attrs dt:hover {\n",
       "  overflow: visible;\n",
       "  width: auto;\n",
       "  z-index: 1;\n",
       "}\n",
       "\n",
       ".xr-var-attrs,\n",
       ".xr-var-data {\n",
       "  display: none;\n",
       "  background-color: var(--xr-background-color) !important;\n",
       "  padding-bottom: 5px !important;\n",
       "}\n",
       "\n",
       ".xr-var-attrs-in:checked ~ .xr-var-attrs,\n",
       ".xr-var-data-in:checked ~ .xr-var-data {\n",
       "  display: block;\n",
       "}\n",
       "\n",
       ".xr-var-data > table {\n",
       "  float: right;\n",
       "}\n",
       "\n",
       ".xr-var-name span,\n",
       ".xr-var-data,\n",
       ".xr-attrs {\n",
       "  padding-left: 25px !important;\n",
       "}\n",
       "\n",
       ".xr-attrs,\n",
       ".xr-var-attrs,\n",
       ".xr-var-data {\n",
       "  grid-column: 1 / -1;\n",
       "}\n",
       "\n",
       "dl.xr-attrs {\n",
       "  padding: 0;\n",
       "  margin: 0;\n",
       "  display: grid;\n",
       "  grid-template-columns: 125px auto;\n",
       "}\n",
       "\n",
       ".xr-attrs dt,\n",
       ".xr-attrs dd {\n",
       "  padding: 0;\n",
       "  margin: 0;\n",
       "  float: left;\n",
       "  padding-right: 10px;\n",
       "  width: auto;\n",
       "}\n",
       "\n",
       ".xr-attrs dt {\n",
       "  font-weight: normal;\n",
       "  grid-column: 1;\n",
       "}\n",
       "\n",
       ".xr-attrs dt:hover span {\n",
       "  display: inline-block;\n",
       "  background: var(--xr-background-color);\n",
       "  padding-right: 10px;\n",
       "}\n",
       "\n",
       ".xr-attrs dd {\n",
       "  grid-column: 2;\n",
       "  white-space: pre-wrap;\n",
       "  word-break: break-all;\n",
       "}\n",
       "\n",
       ".xr-icon-database,\n",
       ".xr-icon-file-text2 {\n",
       "  display: inline-block;\n",
       "  vertical-align: middle;\n",
       "  width: 1em;\n",
       "  height: 1.5em !important;\n",
       "  stroke-width: 0;\n",
       "  stroke: currentColor;\n",
       "  fill: currentColor;\n",
       "}\n",
       "</style><pre class='xr-text-repr-fallback'>&lt;xarray.DataArray (i: 1, y: 2)&gt;\n",
       "array([[-164.35862178, -164.35862178]])\n",
       "Dimensions without coordinates: i, y</pre><div class='xr-wrap' hidden><div class='xr-header'><div class='xr-obj-type'>xarray.DataArray</div><div class='xr-array-name'></div><ul class='xr-dim-list'><li><span>i</span>: 1</li><li><span>y</span>: 2</li></ul></div><ul class='xr-sections'><li class='xr-section-item'><div class='xr-array-wrap'><input id='section-462556c8-0a83-4bbe-9464-ddb9c55d4cfd' class='xr-array-in' type='checkbox' checked><label for='section-462556c8-0a83-4bbe-9464-ddb9c55d4cfd' title='Show/hide data repr'><svg class='icon xr-icon-database'><use xlink:href='#icon-database'></use></svg></label><div class='xr-array-preview xr-preview'><span>-164.4 -164.4</span></div><div class='xr-array-data'><pre>array([[-164.35862178, -164.35862178]])</pre></div></div></li><li class='xr-section-item'><input id='section-44ea6352-89a3-42a5-ab72-222c14e23342' class='xr-section-summary-in' type='checkbox' disabled ><label for='section-44ea6352-89a3-42a5-ab72-222c14e23342' class='xr-section-summary'  title='Expand/collapse section'>Coordinates: <span>(0)</span></label><div class='xr-section-inline-details'></div><div class='xr-section-details'><ul class='xr-var-list'></ul></div></li><li class='xr-section-item'><input id='section-e9108431-4462-41b7-873d-1be75c49cd65' class='xr-section-summary-in' type='checkbox' disabled ><label for='section-e9108431-4462-41b7-873d-1be75c49cd65' class='xr-section-summary'  title='Expand/collapse section'>Attributes: <span>(0)</span></label><div class='xr-section-inline-details'></div><div class='xr-section-details'><dl class='xr-attrs'></dl></div></li></ul></div></div>"
      ],
      "text/plain": [
       "<xarray.DataArray (i: 1, y: 2)>\n",
       "array([[-164.35862178, -164.35862178]])\n",
       "Dimensions without coordinates: i, y"
      ]
     },
     "execution_count": 26,
     "metadata": {},
     "output_type": "execute_result"
    }
   ],
   "source": [
    "ind_x"
   ]
  },
  {
   "cell_type": "code",
   "execution_count": null,
   "id": "41967cb1-f5c3-414d-a7eb-0bbafc1f5a7a",
   "metadata": {},
   "outputs": [],
   "source": []
  },
  {
   "cell_type": "code",
   "execution_count": 33,
   "id": "a5684475-2d61-47e9-8d1c-827caca41ab7",
   "metadata": {},
   "outputs": [],
   "source": [
    "import rioxarray\n",
    "import rasterio\n",
    "sst_da = ds.analysed_sst.rio.write_crs(\"+proj=longlat +datum=WGS84 +no_defs\")\n",
    "wintri_crs = '+proj=wintri +lon_0=0 +lat_1=0 +x_0=0 +y_0=0 +datum=WGS84 +units=km +no_defs'\n",
    "sst_da_reproj = sst_da.rio.reproject(wintri_crs)"
   ]
  },
  {
   "cell_type": "markdown",
   "id": "e5f04efb-7861-443b-a3d7-dea08fa26b0a",
   "metadata": {},
   "source": [
    "Step one is to add a projection to our xarray since it doesn't have one. In order to do a re-projection, we have to know what we are re-projecting from. The projection of the SST data in PROJ4 format is \"+proj=longlat +datum=WGS84 +no_defs\". Lots of ways to refer to this projection. \"epsg:4326\" is also common. I use PROJ4 normally."
   ]
  },
  {
   "cell_type": "code",
   "execution_count": 34,
   "id": "7e5001ea-ae3c-4037-8df6-25a4d8271098",
   "metadata": {},
   "outputs": [
    {
     "data": {
      "text/plain": [
       "(1, 1138, 2277)"
      ]
     },
     "execution_count": 34,
     "metadata": {},
     "output_type": "execute_result"
    }
   ],
   "source": [
    "sst_da_reproj.shape"
   ]
  },
  {
   "cell_type": "code",
   "execution_count": 48,
   "id": "b24eb88f-4b06-4a8d-b03e-8834a599e63b",
   "metadata": {},
   "outputs": [
    {
     "data": {
      "text/plain": [
       "array([-17.60115694, -17.60115694, -17.60115694, -17.60115694,\n",
       "       -17.60115694, -17.60115694, -17.60115694, -17.60115694,\n",
       "       -17.60115694])"
      ]
     },
     "execution_count": 48,
     "metadata": {},
     "output_type": "execute_result"
    }
   ],
   "source": [
    "sst_da_reproj.y.values[1:10]-sst_da_reproj.y.values[0:9]\n"
   ]
  },
  {
   "cell_type": "code",
   "execution_count": null,
   "id": "264e6c00-8b52-4607-92ae-df286d068a27",
   "metadata": {},
   "outputs": [],
   "source": []
  }
 ],
 "metadata": {
  "kernelspec": {
   "display_name": "Python 3 (ipykernel)",
   "language": "python",
   "name": "python3"
  },
  "language_info": {
   "codemirror_mode": {
    "name": "ipython",
    "version": 3
   },
   "file_extension": ".py",
   "mimetype": "text/x-python",
   "name": "python",
   "nbconvert_exporter": "python",
   "pygments_lexer": "ipython3",
   "version": "3.9.7"
  }
 },
 "nbformat": 4,
 "nbformat_minor": 5
}
