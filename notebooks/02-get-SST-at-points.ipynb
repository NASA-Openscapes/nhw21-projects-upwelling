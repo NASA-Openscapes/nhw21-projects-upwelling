{
 "cells": [
  {
   "cell_type": "markdown",
   "id": "ed3c3e04-b364-4e42-99f9-ee26c1a68abd",
   "metadata": {},
   "source": [
    "# Process the data\n",
    "This notebook shows a simple example of extracting data at a point on the downloaded xarray from the `load_data.ipynb` file. At the end of that file, I ran `%store ds` where `ds` is the xarray of SST values.\n",
    "\n",
    "This compares 2 ways of getting SST from my data points (track). The first is very slow. The second is much faster, so scroll to the bottom."
   ]
  },
  {
   "cell_type": "code",
   "execution_count": 6,
   "id": "80e7b56e-0204-4c31-b3ee-12ca0d9140c3",
   "metadata": {},
   "outputs": [],
   "source": [
    "# This is stored from load_data.ipynb file so run that first\n",
    "%store -r ds"
   ]
  },
  {
   "cell_type": "markdown",
   "id": "bda62333-d5e5-468d-95a4-5d4711a1251d",
   "metadata": {},
   "source": [
    "# Get SST at a particular lat/lon value\n",
    "I have my lat/lon data in a file `data/sample_point_pairs.csv`. These are points along the North and South America coasts. My lat/lon values are not on the same grid as the SST data, so I need to find the \"pixel\" where my lat/lon value lies. "
   ]
  },
  {
   "cell_type": "code",
   "execution_count": 8,
   "id": "fec6e62b-001b-4956-8e29-a73e7d253720",
   "metadata": {},
   "outputs": [],
   "source": [
    "import pandas as pd\n",
    "df = pd.read_csv('../data/sample_point_pairs.csv')"
   ]
  },
  {
   "cell_type": "markdown",
   "id": "860b2950-e8cf-4894-ab7c-e79de50c0c47",
   "metadata": {},
   "source": [
    "Here is a lat/lon pair."
   ]
  },
  {
   "cell_type": "code",
   "execution_count": 9,
   "id": "d4de34fa-ce46-4a82-a11d-7637e266281e",
   "metadata": {},
   "outputs": [
    {
     "data": {
      "text/plain": [
       "[54.8932363035493, -164.839138084371]"
      ]
     },
     "execution_count": 9,
     "metadata": {},
     "output_type": "execute_result"
    }
   ],
   "source": [
    "ns = [df.iloc[0][\"lat.ns\"], df.iloc[0][\"lon.ns\"]]\n",
    "ns"
   ]
  },
  {
   "cell_type": "markdown",
   "id": "58efcade-8d88-4f42-a22a-4190498422b8",
   "metadata": {},
   "source": [
    "Here is the code to get SST (in Kelvin) at a particular lat/lon point."
   ]
  },
  {
   "cell_type": "code",
   "execution_count": 10,
   "id": "df8883e6-eba0-497e-aa05-c96421d185b2",
   "metadata": {},
   "outputs": [
    {
     "data": {
      "text/plain": [
       "278.32"
      ]
     },
     "execution_count": 10,
     "metadata": {},
     "output_type": "execute_result"
    }
   ],
   "source": [
    "ds.analysed_sst.sel(lat=ns[0], lon=ns[1], method=\"nearest\").values[0]"
   ]
  },
  {
   "cell_type": "markdown",
   "id": "66afcb64-dfd3-4abe-aac7-a3c026398341",
   "metadata": {},
   "source": [
    "# Get the SST for all lat/lon pairs\n",
    "\n",
    "First I will define a function that gets SST at a lat/lon pair. Why am I using a data frame? Because I don't know Python and I am used to working in with data frames in R. But I realize this is not the way to do things here."
   ]
  },
  {
   "cell_type": "code",
   "execution_count": 11,
   "id": "613adae3-45b7-4426-9c63-dc93e287d5af",
   "metadata": {},
   "outputs": [],
   "source": [
    "def getsst(lat, lon):\n",
    "    sst = ds.analysed_sst.sel(lat=lat, lon=lon, method=\"nearest\").values[0]\n",
    "    return sst"
   ]
  },
  {
   "cell_type": "markdown",
   "id": "3135ae76-027e-41ae-932a-7dc31fd07116",
   "metadata": {},
   "source": [
    "Now I can apply this get all the SST values for the pairs in my `df` of lat/lon pairs. First the nearshore pairs."
   ]
  },
  {
   "cell_type": "code",
   "execution_count": 12,
   "id": "5499d213-4a46-4a75-b8c6-8800babeee75",
   "metadata": {},
   "outputs": [],
   "source": [
    "df['sst.ns'] = df.apply(lambda row: getsst(row['lat.ns'], row['lon.ns']), axis=1)"
   ]
  },
  {
   "cell_type": "markdown",
   "id": "cf62289d-bd41-4f28-b9ef-0d579650bbfa",
   "metadata": {},
   "source": [
    "Next the offshore pairs."
   ]
  },
  {
   "cell_type": "code",
   "execution_count": 14,
   "id": "fc5f2264-65b8-4a57-8e94-197bcf4036ce",
   "metadata": {},
   "outputs": [],
   "source": [
    "df['sst.os'] = df.apply(lambda row: getsst(row['lat.os'], row['lon.os']), axis=1)"
   ]
  },
  {
   "cell_type": "markdown",
   "id": "1a205c65-73c8-4d49-a83c-3d1884727229",
   "metadata": {},
   "source": [
    "Now the difference."
   ]
  },
  {
   "cell_type": "code",
   "execution_count": 15,
   "id": "ea93247b-ae7f-400a-96f7-cfec76be1bde",
   "metadata": {},
   "outputs": [],
   "source": [
    "df['sst.diff'] = df.apply(lambda row: row['sst.os'] - row['sst.ns'], axis=1)"
   ]
  },
  {
   "cell_type": "markdown",
   "id": "4cc75c27-5229-4228-9219-efa32904dbdc",
   "metadata": {},
   "source": [
    "Now the upwelling index."
   ]
  },
  {
   "cell_type": "code",
   "execution_count": 16,
   "id": "9d2538de-2593-472b-a266-164fb906e136",
   "metadata": {},
   "outputs": [],
   "source": [
    "df['up.index'] = df.apply(lambda row: row['sst.diff']>2, axis=1)"
   ]
  },
  {
   "cell_type": "markdown",
   "id": "84aa41e7-fcbc-47c3-b68a-d1999d6190b5",
   "metadata": {},
   "source": [
    "Add a location index. Just the index."
   ]
  },
  {
   "cell_type": "code",
   "execution_count": 17,
   "id": "801eeef0-a03d-460a-a549-2933075fd3a1",
   "metadata": {},
   "outputs": [],
   "source": [
    "df['loc'] = df.index"
   ]
  },
  {
   "cell_type": "markdown",
   "id": "bc1a3e50-69cb-47d6-a775-8f5cdcfd3619",
   "metadata": {},
   "source": [
    "# Make a plot"
   ]
  },
  {
   "cell_type": "code",
   "execution_count": 18,
   "id": "631f0e11-e6ce-4d28-8b95-db8e09d5d377",
   "metadata": {},
   "outputs": [],
   "source": [
    "# Not sure I need this for pandas plotting\n",
    "%matplotlib inline"
   ]
  },
  {
   "cell_type": "code",
   "execution_count": 19,
   "id": "fd88a88c-f288-4cdd-bfff-dfc410398719",
   "metadata": {},
   "outputs": [
    {
     "data": {
      "image/png": "[encoded data removed]",
      "text/plain": [
       "<Figure size 432x288 with 1 Axes>"
      ]
     },
     "metadata": {
      "needs_background": "light"
     },
     "output_type": "display_data"
    }
   ],
   "source": [
    "df.plot.line(x='loc',y='sst.diff', ylabel=\"SST nearshore offshore diff\");"
   ]
  },
  {
   "cell_type": "markdown",
   "id": "07923050-9c43-4c6f-ab78-7091f774ca20",
   "metadata": {},
   "source": [
    "Ok that is not a useful plot, but I can see that it worked. Upwelling would be sst.diff > 2 approx."
   ]
  },
  {
   "cell_type": "markdown",
   "id": "38728c5c-7f9f-4969-a93e-a1272c15cea1",
   "metadata": {},
   "source": [
    "# Make a function to do this\n",
    "I need to compute the SST diff for each nc file. Because I work in R not Python, I am just doing the data crunching in Python and then I'll port that over to R to work on it. My data sets are not that huge. 800 coastal locations times 30 years times 365 days so about 1Gb of data."
   ]
  },
  {
   "cell_type": "code",
   "execution_count": 20,
   "id": "c09acc1d-6859-47a9-9d6a-6cc0a453842c",
   "metadata": {},
   "outputs": [],
   "source": [
    "def getsst(ras, lat, lon):\n",
    "    sst = ras.analysed_sst.sel(lat=lat, lon=lon, method=\"nearest\").values[0]\n",
    "    return sst\n",
    "def getdf(ras, pts):\n",
    "    # takes a SST raster and the pandas pts data frame\n",
    "    df_new = pts\n",
    "    df_new['sst.ns'] = df_new.apply(lambda row: getsst(ras, row['lat.ns'], row['lon.ns']), axis=1)\n",
    "    df_new['sst.os'] = df_new.apply(lambda row: getsst(ras, row['lat.os'], row['lon.os']), axis=1)\n",
    "    df_new['sst.diff'] = df_new.apply(lambda row: row['sst.os'] - row['sst.ns'], axis=1)\n",
    "    df_new['loc'] = df_new.index\n",
    "    return df_new"
   ]
  },
  {
   "cell_type": "markdown",
   "id": "fb0f71c8-2273-4e2d-9e96-d56016c04940",
   "metadata": {},
   "source": [
    "Let's see how long this takes to run."
   ]
  },
  {
   "cell_type": "code",
   "execution_count": 21,
   "id": "280b8d46-3163-4233-9e85-ee795c2b89a3",
   "metadata": {},
   "outputs": [
    {
     "name": "stdout",
     "output_type": "stream",
     "text": [
      "16.3 s ± 60 ms per loop (mean ± std. dev. of 7 runs, 1 loop each)\n"
     ]
    }
   ],
   "source": [
    "%timeit getdf(ds, df)"
   ]
  },
  {
   "cell_type": "markdown",
   "id": "2a3ed590-d1fe-4d4a-8661-fbcf840c6c94",
   "metadata": {},
   "source": [
    "Takes about 16 seconds to run one day. Hmm that will take 2 days to run 30 years worth of data, and I started with 0.25 grid data and just the nearshore/offshore difference so the super easy case. The MUR data is 0.01 grid and I'll be doing an area average not the SST at the point. Hmm... maybe there is a faster way to do this simple calculation."
   ]
  },
  {
   "cell_type": "code",
   "execution_count": 22,
   "id": "db697b0e-8d84-47b3-a9cd-ff3bc0c1274f",
   "metadata": {},
   "outputs": [
    {
     "data": {
      "text/plain": [
       "48.666666666666664"
      ]
     },
     "execution_count": 22,
     "metadata": {},
     "output_type": "execute_result"
    }
   ],
   "source": [
    "16*30*365/(60*60)"
   ]
  },
  {
   "cell_type": "markdown",
   "id": "7ff8b007-2c58-4b78-a9de-ea6911bb5813",
   "metadata": {},
   "source": [
    "# Alternate approach using indices\n",
    "From https://github.com/ICESAT-2HackWeek/xarray_open_tutorial/blob/master/xarray_examples.ipynb"
   ]
  },
  {
   "cell_type": "code",
   "execution_count": 70,
   "id": "0a75bb73-22ca-4cc2-ba42-81b7a675db7b",
   "metadata": {},
   "outputs": [],
   "source": [
    "import xarray as xr\n",
    "import numpy as np"
   ]
  },
  {
   "cell_type": "code",
   "execution_count": 44,
   "id": "9b34e514-3e25-4a4c-a80d-43a0998c2cdd",
   "metadata": {},
   "outputs": [],
   "source": [
    "ind_x = xr.DataArray(df[\"lon.ns\"], dims=['i'])\n",
    "ind_y = xr.DataArray(df[\"lat.ns\"], dims=['i'])"
   ]
  },
  {
   "cell_type": "code",
   "execution_count": 79,
   "id": "768b0da5-79a3-4b4a-a25c-1bc8d8b2ebd6",
   "metadata": {},
   "outputs": [
    {
     "data": {
      "text/plain": [
       "array([278.32   , 278.00998, 277.69998, 278.00998, 278.03   , 277.83   ,\n",
       "       277.29   , 274.81   , 273.84   , 271.77   , 272.74   , 272.18   ,\n",
       "       271.94998, 271.85   , 271.66998, 271.61   , 271.77   , 271.69   ,\n",
       "       271.6    ,       nan], dtype=float32)"
      ]
     },
     "execution_count": 79,
     "metadata": {},
     "output_type": "execute_result"
    }
   ],
   "source": [
    "test = ds.analysed_sst.sel(lon=ind_x, lat=ind_y, method='nearest').values\n",
    "test[0, 0:20]"
   ]
  },
  {
   "cell_type": "markdown",
   "id": "f78b2fe3-68ee-4387-845c-c666a2d81476",
   "metadata": {},
   "source": [
    "Make a function to do this."
   ]
  },
  {
   "cell_type": "code",
   "execution_count": 77,
   "id": "cf4a955e-ecce-4337-a458-fd79a109c7c4",
   "metadata": {},
   "outputs": [],
   "source": [
    "def getdf2(ras, pts):\n",
    "    ind_x = xr.DataArray(df[\"lon.ns\"], dims=['i'])\n",
    "    ind_y = xr.DataArray(df[\"lat.ns\"], dims=['i'])\n",
    "    xr_new = ras.analysed_sst.sel(lon=ind_x, lat=ind_y, method='nearest').values\n",
    "    ind_x = xr.DataArray(df[\"lon.os\"], dims=['i'])\n",
    "    ind_y = xr.DataArray(df[\"lat.os\"], dims=['i'])\n",
    "    xr_new = np.vstack((xr_new, ras.analysed_sst.sel(lon=ind_x, lat=ind_y, method='nearest').values))\n",
    "    return xr_new"
   ]
  },
  {
   "cell_type": "code",
   "execution_count": 78,
   "id": "a9276b51-5d96-4949-9af7-369610ea94cb",
   "metadata": {},
   "outputs": [
    {
     "name": "stdout",
     "output_type": "stream",
     "text": [
      "105 ms ± 669 µs per loop (mean ± std. dev. of 7 runs, 10 loops each)\n"
     ]
    }
   ],
   "source": [
    "%timeit getdf2(ds, df)"
   ]
  },
  {
   "cell_type": "markdown",
   "id": "0a6ccbaf-73f9-4124-ade8-742266ae53a0",
   "metadata": {},
   "source": [
    "This is much faster!"
   ]
  }
 ],
 "metadata": {
  "kernelspec": {
   "display_name": "Python 3 (ipykernel)",
   "language": "python",
   "name": "python3"
  },
  "language_info": {
   "codemirror_mode": {
    "name": "ipython",
    "version": 3
   },
   "file_extension": ".py",
   "mimetype": "text/x-python",
   "name": "python",
   "nbconvert_exporter": "python",
   "pygments_lexer": "ipython3",
   "version": "3.9.7"
  }
 },
 "nbformat": 4,
 "nbformat_minor": 5
}
